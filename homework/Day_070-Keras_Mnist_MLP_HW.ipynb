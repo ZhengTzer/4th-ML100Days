{
 "cells": [
  {
   "cell_type": "markdown",
   "metadata": {},
   "source": [
    "# 作業目標:¶\n",
    "利用手寫辨識資料說明MLP 中, 神經網路層的多寡跟預測結果的差異"
   ]
  },
  {
   "cell_type": "markdown",
   "metadata": {},
   "source": [
    "# 作業重點:\n",
    "[練習]請嘗試新增一層或兩層看看最後預測結果是否有差異\n",
    "model.add(Dense(units=256, input_dim=784, kernel_initializer='normal', activation='relu'))\n"
   ]
  },
  {
   "cell_type": "markdown",
   "metadata": {
    "colab_type": "text",
    "id": "zfI5zCjRPlnc"
   },
   "source": [
    "# 資料預處理"
   ]
  },
  {
   "cell_type": "code",
   "execution_count": 61,
   "metadata": {
    "colab": {
     "autoexec": {
      "startup": false,
      "wait_interval": 0
     },
     "base_uri": "https://localhost:8080/",
     "height": 34
    },
    "colab_type": "code",
    "executionInfo": {
     "elapsed": 20601,
     "status": "ok",
     "timestamp": 1533441753568,
     "user": {
      "displayName": "Edward Cheng",
      "photoUrl": "//lh4.googleusercontent.com/-ANnwjGu3IBk/AAAAAAAAAAI/AAAAAAAAAAc/qXXg6Jek9xw/s50-c-k-no/photo.jpg",
      "userId": "112554017642991017343"
     },
     "user_tz": -480
    },
    "id": "GyIQ7tpGPlnf",
    "outputId": "f3642b99-3ef2-43fe-ee42-e17b1ef50cbb"
   },
   "outputs": [],
   "source": [
    "from keras.utils import np_utils\n",
    "import numpy as np\n",
    "np.random.seed(10)"
   ]
  },
  {
   "cell_type": "code",
   "execution_count": 62,
   "metadata": {
    "colab": {
     "autoexec": {
      "startup": false,
      "wait_interval": 0
     },
     "base_uri": "https://localhost:8080/",
     "height": 51
    },
    "colab_type": "code",
    "executionInfo": {
     "elapsed": 5937,
     "status": "ok",
     "timestamp": 1533441759521,
     "user": {
      "displayName": "Edward Cheng",
      "photoUrl": "//lh4.googleusercontent.com/-ANnwjGu3IBk/AAAAAAAAAAI/AAAAAAAAAAc/qXXg6Jek9xw/s50-c-k-no/photo.jpg",
      "userId": "112554017642991017343"
     },
     "user_tz": -480
    },
    "id": "OLzoKlJRPlno",
    "outputId": "c75f10a4-951d-4b3b-ad5f-c8fc4dff0e96"
   },
   "outputs": [],
   "source": [
    "#載入手寫辨識的資料集\n",
    "from keras.datasets import mnist\n",
    "(x_train_image,y_train_label),\\\n",
    "(x_test_image,y_test_label)= mnist.load_data()"
   ]
  },
  {
   "cell_type": "code",
   "execution_count": 63,
   "metadata": {
    "colab": {
     "autoexec": {
      "startup": false,
      "wait_interval": 0
     }
    },
    "colab_type": "code",
    "id": "QEuQwa4nPlnu"
   },
   "outputs": [],
   "source": [
    "#指定測試集與訓練資料集\n",
    "x_Train =x_train_image.reshape(60000, 784).astype('float32')\n",
    "x_Test = x_test_image.reshape(10000, 784).astype('float32')"
   ]
  },
  {
   "cell_type": "code",
   "execution_count": 64,
   "metadata": {
    "colab": {
     "autoexec": {
      "startup": false,
      "wait_interval": 0
     }
    },
    "colab_type": "code",
    "id": "YisRq-SxPln0"
   },
   "outputs": [],
   "source": [
    "# normalize inputs from 0-255 to 0-1\n",
    "x_Train_normalize = x_Train / 255\n",
    "x_Test_normalize = x_Test / 255"
   ]
  },
  {
   "cell_type": "code",
   "execution_count": 65,
   "metadata": {
    "colab": {
     "autoexec": {
      "startup": false,
      "wait_interval": 0
     }
    },
    "colab_type": "code",
    "id": "AHtfmzpfPln4"
   },
   "outputs": [],
   "source": [
    "#把LABEL轉成NUMERICAL Categorical \n",
    "y_Train_OneHot = np_utils.to_categorical(y_train_label)\n",
    "y_Test_OneHot = np_utils.to_categorical(y_test_label)"
   ]
  },
  {
   "cell_type": "markdown",
   "metadata": {
    "colab_type": "text",
    "id": "0s8PjvqJPln7"
   },
   "source": [
    "# 建立模型"
   ]
  },
  {
   "cell_type": "code",
   "execution_count": 66,
   "metadata": {
    "colab": {
     "autoexec": {
      "startup": false,
      "wait_interval": 0
     }
    },
    "colab_type": "code",
    "id": "N10v1eX2Pln8"
   },
   "outputs": [],
   "source": [
    "from keras.models import Sequential\n",
    "from keras.layers import Dense"
   ]
  },
  {
   "cell_type": "code",
   "execution_count": 67,
   "metadata": {},
   "outputs": [],
   "source": [
    "#宣告採用序列模型\n",
    "model = Sequential()"
   ]
  },
  {
   "cell_type": "code",
   "execution_count": 68,
   "metadata": {
    "colab": {
     "autoexec": {
      "startup": false,
      "wait_interval": 0
     }
    },
    "colab_type": "code",
    "id": "jmaxrsXwPln-"
   },
   "outputs": [],
   "source": [
    "#建構輸入層\n",
    "model.add(Dense(units=256, \n",
    "                input_dim=784, \n",
    "                kernel_initializer='normal', \n",
    "                activation='relu'))\n",
    "\n",
    "model.add(Dense(units=256, \n",
    "                kernel_initializer='normal', \n",
    "                activation='relu'))\n",
    "\n",
    "model.add(Dense(units=256, \n",
    "                kernel_initializer='normal', \n",
    "                activation='relu'))\n",
    "\n",
    "model.add(Dense(units=256, \n",
    "                kernel_initializer='normal', \n",
    "                activation='relu'))"
   ]
  },
  {
   "cell_type": "code",
   "execution_count": 69,
   "metadata": {},
   "outputs": [],
   "source": [
    "#建構輸出層\n",
    "model.add(Dense(units=10,\n",
    "                kernel_initializer='normal',\n",
    "                activation='softmax'))"
   ]
  },
  {
   "cell_type": "markdown",
   "metadata": {
    "colab_type": "text",
    "id": "jdoAZgv1PloK"
   },
   "source": [
    "# 訓練模型"
   ]
  },
  {
   "cell_type": "code",
   "execution_count": 70,
   "metadata": {
    "colab": {
     "autoexec": {
      "startup": false,
      "wait_interval": 0
     }
    },
    "colab_type": "code",
    "id": "5d5wrEL3PloK"
   },
   "outputs": [],
   "source": [
    "# model.compile(loss='categorical_crossentropy', \n",
    "#               optimizer='adam', metrics=['accuracy'])\n",
    "\n",
    "model.compile(loss='MSE', \n",
    "              optimizer='adam',\n",
    "              metrics=['accuracy'])"
   ]
  },
  {
   "cell_type": "code",
   "execution_count": 71,
   "metadata": {
    "colab": {
     "autoexec": {
      "startup": false,
      "wait_interval": 0
     },
     "base_uri": "https://localhost:8080/",
     "height": 374
    },
    "colab_type": "code",
    "executionInfo": {
     "elapsed": 15426,
     "status": "ok",
     "timestamp": 1533441786624,
     "user": {
      "displayName": "Edward Cheng",
      "photoUrl": "//lh4.googleusercontent.com/-ANnwjGu3IBk/AAAAAAAAAAI/AAAAAAAAAAc/qXXg6Jek9xw/s50-c-k-no/photo.jpg",
      "userId": "112554017642991017343"
     },
     "user_tz": -480
    },
    "id": "VlpjoqQ9PloM",
    "outputId": "b91454c9-af9a-40fe-9736-b4a1c97462cd"
   },
   "outputs": [
    {
     "name": "stdout",
     "output_type": "stream",
     "text": [
      "Train on 48000 samples, validate on 12000 samples\n",
      "Epoch 1/10\n",
      "48000/48000 [==============================] - 9s 186us/step - loss: 0.0130 - accuracy: 0.9131 - val_loss: 0.0069 - val_accuracy: 0.9556\n",
      "Epoch 2/10\n",
      "48000/48000 [==============================] - 9s 185us/step - loss: 0.0065 - accuracy: 0.9588 - val_loss: 0.0061 - val_accuracy: 0.9610\n",
      "Epoch 3/10\n",
      "48000/48000 [==============================] - 9s 188us/step - loss: 0.0051 - accuracy: 0.9677 - val_loss: 0.0062 - val_accuracy: 0.9605\n",
      "Epoch 4/10\n",
      "48000/48000 [==============================] - 9s 179us/step - loss: 0.0044 - accuracy: 0.9725 - val_loss: 0.0054 - val_accuracy: 0.9657\n",
      "Epoch 5/10\n",
      "48000/48000 [==============================] - 9s 180us/step - loss: 0.0040 - accuracy: 0.9755 - val_loss: 0.0054 - val_accuracy: 0.9669\n",
      "Epoch 6/10\n",
      "48000/48000 [==============================] - 8s 176us/step - loss: 0.0035 - accuracy: 0.9781 - val_loss: 0.0049 - val_accuracy: 0.9712\n",
      "Epoch 7/10\n",
      "48000/48000 [==============================] - 8s 171us/step - loss: 0.0034 - accuracy: 0.9795 - val_loss: 0.0048 - val_accuracy: 0.9697\n",
      "Epoch 8/10\n",
      "48000/48000 [==============================] - 8s 175us/step - loss: 0.0030 - accuracy: 0.9819 - val_loss: 0.0043 - val_accuracy: 0.9740\n",
      "Epoch 9/10\n",
      "48000/48000 [==============================] - 8s 164us/step - loss: 0.0028 - accuracy: 0.9831 - val_loss: 0.0049 - val_accuracy: 0.9701\n",
      "Epoch 10/10\n",
      "48000/48000 [==============================] - 8s 171us/step - loss: 0.0026 - accuracy: 0.9848 - val_loss: 0.0040 - val_accuracy: 0.9772\n"
     ]
    }
   ],
   "source": [
    "train_history =model.fit(x=x_Train_normalize,\n",
    "                         y=y_Train_OneHot,\n",
    "                         validation_split=0.2, \n",
    "                         epochs=10, \n",
    "                         batch_size=32,\n",
    "                         verbose=1)"
   ]
  },
  {
   "cell_type": "markdown",
   "metadata": {
    "colab_type": "text",
    "id": "pV1Ftdb0PloP"
   },
   "source": [
    "# 以圖形顯示訓練過程"
   ]
  },
  {
   "cell_type": "code",
   "execution_count": 72,
   "metadata": {
    "colab": {
     "autoexec": {
      "startup": false,
      "wait_interval": 0
     }
    },
    "colab_type": "code",
    "id": "EEmuoa1dPloQ"
   },
   "outputs": [],
   "source": [
    "import matplotlib.pyplot as plt\n",
    "\n",
    "def show_train_history(train_history,train,validation):\n",
    "    plt.plot(train_history.history[train])\n",
    "    plt.plot(train_history.history[validation])\n",
    "    plt.title('Train History')\n",
    "    plt.ylabel(train)\n",
    "    plt.xlabel('Epoch')\n",
    "    plt.legend(['train', 'validation'], loc='upper left')\n",
    "    plt.show()"
   ]
  },
  {
   "cell_type": "code",
   "execution_count": 73,
   "metadata": {
    "colab": {
     "autoexec": {
      "startup": false,
      "wait_interval": 0
     },
     "base_uri": "https://localhost:8080/",
     "height": 376
    },
    "colab_type": "code",
    "executionInfo": {
     "elapsed": 1451,
     "status": "ok",
     "timestamp": 1533441789030,
     "user": {
      "displayName": "Edward Cheng",
      "photoUrl": "//lh4.googleusercontent.com/-ANnwjGu3IBk/AAAAAAAAAAI/AAAAAAAAAAc/qXXg6Jek9xw/s50-c-k-no/photo.jpg",
      "userId": "112554017642991017343"
     },
     "user_tz": -480
    },
    "id": "fvE2WsejPloT",
    "outputId": "bb56e170-8850-409e-bbb2-eb6b5b89e528"
   },
   "outputs": [
    {
     "data": {
      "image/png": "[encoded data removed]",
      "text/plain": [
       "<Figure size 432x288 with 1 Axes>"
      ]
     },
     "metadata": {
      "needs_background": "light"
     },
     "output_type": "display_data"
    }
   ],
   "source": [
    "show_train_history(train_history,'accuracy','val_accuracy')"
   ]
  },
  {
   "cell_type": "code",
   "execution_count": 74,
   "metadata": {
    "colab": {
     "autoexec": {
      "startup": false,
      "wait_interval": 0
     },
     "base_uri": "https://localhost:8080/",
     "height": 376
    },
    "colab_type": "code",
    "executionInfo": {
     "elapsed": 1937,
     "status": "ok",
     "timestamp": 1533441791049,
     "user": {
      "displayName": "Edward Cheng",
      "photoUrl": "//lh4.googleusercontent.com/-ANnwjGu3IBk/AAAAAAAAAAI/AAAAAAAAAAc/qXXg6Jek9xw/s50-c-k-no/photo.jpg",
      "userId": "112554017642991017343"
     },
     "user_tz": -480
    },
    "id": "zIYyrnFWPloW",
    "outputId": "4bdbd1fa-6f25-49af-88d0-8d35f6e2ecaa"
   },
   "outputs": [
    {
     "data": {
      "image/png": "[encoded data removed]",
      "text/plain": [
       "<Figure size 432x288 with 1 Axes>"
      ]
     },
     "metadata": {
      "needs_background": "light"
     },
     "output_type": "display_data"
    }
   ],
   "source": [
    "show_train_history(train_history,'loss','val_loss')"
   ]
  },
  {
   "cell_type": "markdown",
   "metadata": {
    "colab_type": "text",
    "id": "h1z2y0g-PloZ"
   },
   "source": [
    "# 評估模型準確率"
   ]
  },
  {
   "cell_type": "code",
   "execution_count": 75,
   "metadata": {
    "colab": {
     "autoexec": {
      "startup": false,
      "wait_interval": 0
     },
     "base_uri": "https://localhost:8080/",
     "height": 68
    },
    "colab_type": "code",
    "executionInfo": {
     "elapsed": 1425,
     "status": "ok",
     "timestamp": 1533441792584,
     "user": {
      "displayName": "Edward Cheng",
      "photoUrl": "//lh4.googleusercontent.com/-ANnwjGu3IBk/AAAAAAAAAAI/AAAAAAAAAAc/qXXg6Jek9xw/s50-c-k-no/photo.jpg",
      "userId": "112554017642991017343"
     },
     "user_tz": -480
    },
    "id": "vMawurJqPloZ",
    "outputId": "31465f8d-cfad-49b8-dc9e-90d643e6b4a8"
   },
   "outputs": [
    {
     "name": "stdout",
     "output_type": "stream",
     "text": [
      "10000/10000 [==============================] - 0s 41us/step\n",
      "\n",
      "accuracy= 0.9797999858856201\n"
     ]
    }
   ],
   "source": [
    "scores = model.evaluate(x_Test_normalize, y_Test_OneHot)\n",
    "print()\n",
    "print('accuracy=',scores[1])"
   ]
  }
 ],
 "metadata": {
  "accelerator": "GPU",
  "colab": {
   "collapsed_sections": [],
   "default_view": {},
   "name": "Keras_Mnist_MLP_h256.ipynb",
   "provenance": [],
   "version": "0.3.2",
   "views": {}
  },
  "kernelspec": {
   "display_name": "Python 3",
   "language": "python",
   "name": "python3"
  },
  "language_info": {
   "codemirror_mode": {
    "name": "ipython",
    "version": 3
   },
   "file_extension": ".py",
   "mimetype": "text/x-python",
   "name": "python",
   "nbconvert_exporter": "python",
   "pygments_lexer": "ipython3",
   "version": "3.7.6"
  }
 },
 "nbformat": 4,
 "nbformat_minor": 4
}
