{
 "cells": [
  {
   "cell_type": "markdown",
   "metadata": {},
   "source": [
    "## Work\n",
    "1. 請嘗試將 preproc_x 替換成以每筆資料的 min/max 進行標準化至 -1 ~ 1 間，再進行訓練\n",
    "2. 請嘗試將 mlp 疊更深 (e.g 5~10 層)，進行訓練後觀察 learning curve 的走勢\n",
    "3. (optional) 請改用 GPU 進行訓練 (如果你有 GPU 的話)，比較使用 CPU 與 GPU 的訓練速度"
   ]
  },
  {
   "cell_type": "code",
   "execution_count": 1,
   "metadata": {},
   "outputs": [
    {
     "data": {
      "text/plain": [
       "'\\nYour code here (optional)\\n確認硬體資源\\n'"
      ]
     },
     "execution_count": 1,
     "metadata": {},
     "output_type": "execute_result"
    }
   ],
   "source": [
    "## \n",
    "\"\"\"\n",
    "Your code here (optional)\n",
    "確認硬體資源\n",
    "\"\"\""
   ]
  },
  {
   "cell_type": "code",
   "execution_count": 2,
   "metadata": {},
   "outputs": [
    {
     "name": "stderr",
     "output_type": "stream",
     "text": [
      "Using TensorFlow backend.\n"
     ]
    }
   ],
   "source": [
    "import os\n",
    "import keras\n",
    "\n",
    "# 請嘗試設定 GPU：os.environ\n"
   ]
  },
  {
   "cell_type": "code",
   "execution_count": 3,
   "metadata": {},
   "outputs": [],
   "source": [
    "train, test = keras.datasets.cifar10.load_data()"
   ]
  },
  {
   "cell_type": "code",
   "execution_count": 4,
   "metadata": {},
   "outputs": [],
   "source": [
    "## 資料前處理\n",
    "\"\"\"\n",
    "Your code here\n",
    "\"\"\"\n",
    "def preproc_x(x,flatten=True):\n",
    "    x = 2*(((x - x.min()) / (x.max() - x.min()))-0.5)\n",
    "    if flatten:\n",
    "        x = x.reshape((len(x), -1))\n",
    "    return x\n",
    "\n",
    "def preproc_y(y,num_classes=10):\n",
    "    if y.shape[-1] == 1:\n",
    "        y = keras.utils.to_categorical(y, num_classes)\n",
    "    return y"
   ]
  },
  {
   "cell_type": "code",
   "execution_count": 6,
   "metadata": {},
   "outputs": [],
   "source": [
    "x_train, y_train = train\n",
    "x_test, y_test = test\n",
    "\n",
    "# Preproc the inputs\n",
    "x_train = preproc_x(x_train)\n",
    "x_test = preproc_x(x_test)\n",
    "\n",
    "# Preprc the outputs\n",
    "y_train = preproc_y(y_train)\n",
    "y_test = preproc_y(y_test)"
   ]
  },
  {
   "cell_type": "code",
   "execution_count": 7,
   "metadata": {},
   "outputs": [
    {
     "name": "stdout",
     "output_type": "stream",
     "text": [
      "Model: \"model_1\"\n",
      "_________________________________________________________________\n",
      "Layer (type)                 Output Shape              Param #   \n",
      "=================================================================\n",
      "input_1 (InputLayer)         (None, 3072)              0         \n",
      "_________________________________________________________________\n",
      "hidden_layer1 (Dense)        (None, 512)               1573376   \n",
      "_________________________________________________________________\n",
      "hidden_layer2 (Dense)        (None, 256)               131328    \n",
      "_________________________________________________________________\n",
      "hidden_layer3 (Dense)        (None, 128)               32896     \n",
      "_________________________________________________________________\n",
      "hidden_layer4 (Dense)        (None, 128)               16512     \n",
      "_________________________________________________________________\n",
      "hidden_layer5 (Dense)        (None, 128)               16512     \n",
      "_________________________________________________________________\n",
      "output (Dense)               (None, 10)                1290      \n",
      "=================================================================\n",
      "Total params: 1,771,914\n",
      "Trainable params: 1,771,914\n",
      "Non-trainable params: 0\n",
      "_________________________________________________________________\n"
     ]
    }
   ],
   "source": [
    "\"\"\"Code Here\n",
    "建立你的神經網路\n",
    "\"\"\"\n",
    "def build_mlp(input_shape, output_units=10, num_neurons=[512, 256, 128, 128, 128]):\n",
    "    input_layer = keras.layers.Input(input_shape)\n",
    "    \n",
    "    for i, n_units in enumerate(num_neurons):\n",
    "        if i == 0:\n",
    "            x = keras.layers.Dense(units=n_units, activation=\"relu\", name=\"hidden_layer\"+str(i+1))(input_layer)\n",
    "        else:\n",
    "            x = keras.layers.Dense(units=n_units, activation=\"relu\", name=\"hidden_layer\"+str(i+1))(x)\n",
    "    \n",
    "    out = keras.layers.Dense(units=output_units, activation=\"softmax\", name=\"output\")(x)\n",
    "    \n",
    "    model = keras.models.Model(inputs=[input_layer], outputs=[out])\n",
    "    return model\n",
    "\n",
    "model = build_mlp(input_shape=x_train.shape[1:])\n",
    "\n",
    "model.summary()"
   ]
  },
  {
   "cell_type": "code",
   "execution_count": 8,
   "metadata": {},
   "outputs": [],
   "source": [
    "## 超參數設定\n",
    "LEARNING_RATE = 0.001\n",
    "EPOCHS = 100\n",
    "BATCH_SIZE = 256"
   ]
  },
  {
   "cell_type": "code",
   "execution_count": 9,
   "metadata": {},
   "outputs": [],
   "source": [
    "optimizer = keras.optimizers.Adam(lr=LEARNING_RATE)\n",
    "model.compile(loss=\"categorical_crossentropy\", metrics=[\"accuracy\"], optimizer=optimizer)"
   ]
  },
  {
   "cell_type": "code",
   "execution_count": 10,
   "metadata": {},
   "outputs": [
    {
     "name": "stdout",
     "output_type": "stream",
     "text": [
      "Train on 50000 samples, validate on 10000 samples\n",
      "Epoch 1/100\n",
      "50000/50000 [==============================] - 28s 554us/step - loss: 1.6882 - accuracy: 0.3999 - val_loss: 1.5279 - val_accuracy: 0.4688\n",
      "Epoch 2/100\n",
      "50000/50000 [==============================] - 27s 546us/step - loss: 1.4642 - accuracy: 0.4844 - val_loss: 1.4466 - val_accuracy: 0.4877\n",
      "Epoch 3/100\n",
      "50000/50000 [==============================] - 26s 529us/step - loss: 1.3412 - accuracy: 0.5244 - val_loss: 1.4098 - val_accuracy: 0.5083\n",
      "Epoch 4/100\n",
      "50000/50000 [==============================] - 26s 512us/step - loss: 1.2513 - accuracy: 0.5564 - val_loss: 1.3678 - val_accuracy: 0.5175\n",
      "Epoch 5/100\n",
      "50000/50000 [==============================] - 26s 518us/step - loss: 1.1701 - accuracy: 0.5874 - val_loss: 1.3553 - val_accuracy: 0.5218\n",
      "Epoch 6/100\n",
      "50000/50000 [==============================] - 26s 526us/step - loss: 1.0882 - accuracy: 0.6137 - val_loss: 1.3563 - val_accuracy: 0.5283\n",
      "Epoch 7/100\n",
      "50000/50000 [==============================] - 26s 520us/step - loss: 1.0146 - accuracy: 0.6389 - val_loss: 1.3595 - val_accuracy: 0.5352\n",
      "Epoch 8/100\n",
      "50000/50000 [==============================] - 27s 535us/step - loss: 0.9511 - accuracy: 0.6611 - val_loss: 1.4174 - val_accuracy: 0.5329\n",
      "Epoch 9/100\n",
      "50000/50000 [==============================] - 26s 527us/step - loss: 0.8756 - accuracy: 0.6884 - val_loss: 1.4269 - val_accuracy: 0.5388\n",
      "Epoch 10/100\n",
      "50000/50000 [==============================] - 26s 514us/step - loss: 0.8100 - accuracy: 0.7114 - val_loss: 1.4675 - val_accuracy: 0.5430\n",
      "Epoch 11/100\n",
      "50000/50000 [==============================] - 27s 532us/step - loss: 0.7469 - accuracy: 0.7335 - val_loss: 1.5096 - val_accuracy: 0.5408\n",
      "Epoch 12/100\n",
      "50000/50000 [==============================] - 26s 517us/step - loss: 0.6868 - accuracy: 0.7544 - val_loss: 1.5882 - val_accuracy: 0.5349\n",
      "Epoch 13/100\n",
      "50000/50000 [==============================] - 26s 526us/step - loss: 0.6263 - accuracy: 0.7786 - val_loss: 1.7245 - val_accuracy: 0.5237\n",
      "Epoch 14/100\n",
      "50000/50000 [==============================] - 26s 527us/step - loss: 0.5795 - accuracy: 0.7926 - val_loss: 1.7915 - val_accuracy: 0.5286\n",
      "Epoch 15/100\n",
      "50000/50000 [==============================] - 26s 518us/step - loss: 0.5306 - accuracy: 0.8101 - val_loss: 1.8034 - val_accuracy: 0.5293\n",
      "Epoch 16/100\n",
      "50000/50000 [==============================] - 26s 529us/step - loss: 0.4936 - accuracy: 0.8248 - val_loss: 1.9394 - val_accuracy: 0.5293\n",
      "Epoch 17/100\n",
      "50000/50000 [==============================] - 24s 473us/step - loss: 0.4460 - accuracy: 0.8419 - val_loss: 1.9822 - val_accuracy: 0.5321\n",
      "Epoch 18/100\n",
      "50000/50000 [==============================] - 16s 322us/step - loss: 0.4074 - accuracy: 0.8555 - val_loss: 2.1682 - val_accuracy: 0.5274\n",
      "Epoch 19/100\n",
      "50000/50000 [==============================] - 16s 319us/step - loss: 0.3913 - accuracy: 0.8599 - val_loss: 2.1113 - val_accuracy: 0.5202\n",
      "Epoch 20/100\n",
      "50000/50000 [==============================] - 15s 303us/step - loss: 0.3665 - accuracy: 0.8693 - val_loss: 2.1781 - val_accuracy: 0.5285\n",
      "Epoch 21/100\n",
      "50000/50000 [==============================] - 15s 297us/step - loss: 0.3267 - accuracy: 0.8854 - val_loss: 2.3393 - val_accuracy: 0.5279\n",
      "Epoch 22/100\n",
      "50000/50000 [==============================] - 15s 300us/step - loss: 0.3228 - accuracy: 0.8863 - val_loss: 2.4117 - val_accuracy: 0.5276\n",
      "Epoch 23/100\n",
      "50000/50000 [==============================] - 15s 301us/step - loss: 0.2952 - accuracy: 0.8975 - val_loss: 2.4029 - val_accuracy: 0.5261\n",
      "Epoch 24/100\n",
      "50000/50000 [==============================] - 15s 296us/step - loss: 0.2738 - accuracy: 0.9037 - val_loss: 2.6561 - val_accuracy: 0.5300\n",
      "Epoch 25/100\n",
      "50000/50000 [==============================] - 15s 296us/step - loss: 0.2683 - accuracy: 0.9064 - val_loss: 2.6630 - val_accuracy: 0.5233\n",
      "Epoch 26/100\n",
      "50000/50000 [==============================] - 15s 297us/step - loss: 0.2444 - accuracy: 0.9153 - val_loss: 2.7975 - val_accuracy: 0.5280\n",
      "Epoch 27/100\n",
      "50000/50000 [==============================] - 16s 310us/step - loss: 0.2272 - accuracy: 0.9225 - val_loss: 2.8260 - val_accuracy: 0.5300\n",
      "Epoch 28/100\n",
      "50000/50000 [==============================] - 15s 302us/step - loss: 0.2196 - accuracy: 0.9234 - val_loss: 2.9031 - val_accuracy: 0.5199\n",
      "Epoch 29/100\n",
      "50000/50000 [==============================] - 15s 306us/step - loss: 0.2144 - accuracy: 0.9248 - val_loss: 2.9250 - val_accuracy: 0.5241\n",
      "Epoch 30/100\n",
      "50000/50000 [==============================] - 15s 302us/step - loss: 0.2153 - accuracy: 0.9261 - val_loss: 2.9470 - val_accuracy: 0.5231\n",
      "Epoch 31/100\n",
      "50000/50000 [==============================] - 15s 301us/step - loss: 0.1934 - accuracy: 0.9330 - val_loss: 3.0351 - val_accuracy: 0.5216\n",
      "Epoch 32/100\n",
      "50000/50000 [==============================] - 15s 310us/step - loss: 0.2002 - accuracy: 0.9311 - val_loss: 3.1459 - val_accuracy: 0.5304\n",
      "Epoch 33/100\n",
      "50000/50000 [==============================] - 15s 309us/step - loss: 0.1837 - accuracy: 0.9364 - val_loss: 3.0837 - val_accuracy: 0.5168\n",
      "Epoch 34/100\n",
      "50000/50000 [==============================] - 15s 302us/step - loss: 0.1801 - accuracy: 0.9391 - val_loss: 3.2606 - val_accuracy: 0.5207\n",
      "Epoch 35/100\n",
      "50000/50000 [==============================] - 15s 306us/step - loss: 0.1820 - accuracy: 0.9368 - val_loss: 3.3543 - val_accuracy: 0.5190\n",
      "Epoch 36/100\n",
      "50000/50000 [==============================] - 15s 303us/step - loss: 0.1591 - accuracy: 0.9467 - val_loss: 3.1723 - val_accuracy: 0.5298\n",
      "Epoch 37/100\n",
      "50000/50000 [==============================] - 15s 299us/step - loss: 0.1702 - accuracy: 0.9413 - val_loss: 3.5151 - val_accuracy: 0.5232\n",
      "Epoch 38/100\n",
      "50000/50000 [==============================] - 15s 297us/step - loss: 0.1701 - accuracy: 0.9418 - val_loss: 3.3698 - val_accuracy: 0.5278\n",
      "Epoch 39/100\n",
      "50000/50000 [==============================] - 15s 295us/step - loss: 0.1413 - accuracy: 0.9518 - val_loss: 3.3845 - val_accuracy: 0.5191\n",
      "Epoch 40/100\n",
      "50000/50000 [==============================] - 15s 296us/step - loss: 0.1500 - accuracy: 0.9484 - val_loss: 3.4176 - val_accuracy: 0.5189\n",
      "Epoch 41/100\n",
      "50000/50000 [==============================] - 15s 297us/step - loss: 0.1636 - accuracy: 0.9452 - val_loss: 3.3329 - val_accuracy: 0.5256\n",
      "Epoch 42/100\n",
      "50000/50000 [==============================] - 15s 300us/step - loss: 0.1377 - accuracy: 0.9528 - val_loss: 3.6066 - val_accuracy: 0.5298\n",
      "Epoch 43/100\n",
      "50000/50000 [==============================] - 15s 297us/step - loss: 0.1431 - accuracy: 0.9516 - val_loss: 3.4886 - val_accuracy: 0.5326\n",
      "Epoch 44/100\n",
      "50000/50000 [==============================] - 15s 297us/step - loss: 0.1223 - accuracy: 0.9582 - val_loss: 3.7994 - val_accuracy: 0.5300\n",
      "Epoch 45/100\n",
      "50000/50000 [==============================] - 15s 296us/step - loss: 0.1601 - accuracy: 0.9482 - val_loss: 3.7076 - val_accuracy: 0.5216\n",
      "Epoch 46/100\n",
      "50000/50000 [==============================] - 15s 295us/step - loss: 0.1308 - accuracy: 0.9558 - val_loss: 3.7460 - val_accuracy: 0.5261\n",
      "Epoch 47/100\n",
      "50000/50000 [==============================] - 16s 312us/step - loss: 0.1263 - accuracy: 0.9574 - val_loss: 3.6974 - val_accuracy: 0.5271\n",
      "Epoch 48/100\n",
      "50000/50000 [==============================] - 15s 306us/step - loss: 0.1242 - accuracy: 0.9590 - val_loss: 3.9161 - val_accuracy: 0.5197\n",
      "Epoch 49/100\n",
      "50000/50000 [==============================] - 15s 299us/step - loss: 0.1164 - accuracy: 0.9610 - val_loss: 3.6744 - val_accuracy: 0.5185\n",
      "Epoch 50/100\n",
      "50000/50000 [==============================] - 15s 306us/step - loss: 0.1272 - accuracy: 0.9579 - val_loss: 3.8773 - val_accuracy: 0.5285\n",
      "Epoch 51/100\n",
      "50000/50000 [==============================] - 15s 303us/step - loss: 0.1256 - accuracy: 0.9583 - val_loss: 3.7098 - val_accuracy: 0.5225\n",
      "Epoch 52/100\n",
      "50000/50000 [==============================] - 15s 307us/step - loss: 0.1140 - accuracy: 0.9606 - val_loss: 3.9758 - val_accuracy: 0.5349\n",
      "Epoch 53/100\n",
      "50000/50000 [==============================] - 15s 297us/step - loss: 0.1151 - accuracy: 0.9615 - val_loss: 3.8572 - val_accuracy: 0.5265\n",
      "Epoch 54/100\n",
      "50000/50000 [==============================] - 15s 294us/step - loss: 0.1195 - accuracy: 0.9602 - val_loss: 3.8207 - val_accuracy: 0.5262\n",
      "Epoch 55/100\n",
      "50000/50000 [==============================] - 15s 293us/step - loss: 0.1133 - accuracy: 0.9613 - val_loss: 3.8737 - val_accuracy: 0.5202\n",
      "Epoch 56/100\n",
      "50000/50000 [==============================] - 15s 293us/step - loss: 0.1145 - accuracy: 0.9630 - val_loss: 3.9642 - val_accuracy: 0.5249\n",
      "Epoch 57/100\n",
      "50000/50000 [==============================] - 15s 299us/step - loss: 0.1089 - accuracy: 0.9637 - val_loss: 3.8580 - val_accuracy: 0.5210\n",
      "Epoch 58/100\n",
      "50000/50000 [==============================] - 15s 297us/step - loss: 0.1081 - accuracy: 0.9645 - val_loss: 3.9948 - val_accuracy: 0.5196\n",
      "Epoch 59/100\n",
      "50000/50000 [==============================] - 15s 301us/step - loss: 0.1097 - accuracy: 0.9632 - val_loss: 4.1278 - val_accuracy: 0.5295\n",
      "Epoch 60/100\n",
      "50000/50000 [==============================] - 15s 297us/step - loss: 0.1071 - accuracy: 0.9652 - val_loss: 3.9351 - val_accuracy: 0.5299\n",
      "Epoch 61/100\n",
      "50000/50000 [==============================] - 15s 297us/step - loss: 0.0968 - accuracy: 0.9684 - val_loss: 4.1143 - val_accuracy: 0.5283\n",
      "Epoch 62/100\n",
      "50000/50000 [==============================] - 15s 296us/step - loss: 0.0994 - accuracy: 0.9669 - val_loss: 3.8537 - val_accuracy: 0.5330\n",
      "Epoch 63/100\n",
      "50000/50000 [==============================] - 15s 298us/step - loss: 0.1004 - accuracy: 0.9673 - val_loss: 4.0015 - val_accuracy: 0.5292\n",
      "Epoch 64/100\n",
      "50000/50000 [==============================] - 15s 298us/step - loss: 0.0922 - accuracy: 0.9702 - val_loss: 4.3213 - val_accuracy: 0.5248\n",
      "Epoch 65/100\n",
      "50000/50000 [==============================] - 15s 299us/step - loss: 0.1089 - accuracy: 0.9643 - val_loss: 4.1780 - val_accuracy: 0.5161\n",
      "Epoch 66/100\n",
      "50000/50000 [==============================] - 15s 295us/step - loss: 0.1018 - accuracy: 0.9670 - val_loss: 4.1037 - val_accuracy: 0.5301\n",
      "Epoch 67/100\n",
      "50000/50000 [==============================] - 15s 296us/step - loss: 0.0957 - accuracy: 0.9682 - val_loss: 4.0724 - val_accuracy: 0.5223\n",
      "Epoch 68/100\n",
      "50000/50000 [==============================] - 15s 294us/step - loss: 0.1072 - accuracy: 0.9640 - val_loss: 4.0788 - val_accuracy: 0.5272\n",
      "Epoch 69/100\n",
      "50000/50000 [==============================] - 15s 295us/step - loss: 0.0860 - accuracy: 0.9712 - val_loss: 4.0786 - val_accuracy: 0.5274\n",
      "Epoch 70/100\n",
      "50000/50000 [==============================] - 15s 301us/step - loss: 0.0871 - accuracy: 0.9714 - val_loss: 4.0892 - val_accuracy: 0.5296\n",
      "Epoch 71/100\n",
      "50000/50000 [==============================] - 14s 289us/step - loss: 0.0788 - accuracy: 0.9744 - val_loss: 4.2537 - val_accuracy: 0.5193\n",
      "Epoch 72/100\n",
      "50000/50000 [==============================] - 14s 280us/step - loss: 0.0943 - accuracy: 0.9687 - val_loss: 4.0642 - val_accuracy: 0.5159\n",
      "Epoch 73/100\n",
      "50000/50000 [==============================] - 14s 276us/step - loss: 0.0987 - accuracy: 0.9673 - val_loss: 4.1271 - val_accuracy: 0.5299\n",
      "Epoch 74/100\n",
      "50000/50000 [==============================] - 14s 290us/step - loss: 0.0811 - accuracy: 0.9742 - val_loss: 4.2385 - val_accuracy: 0.5306\n",
      "Epoch 75/100\n",
      "50000/50000 [==============================] - 16s 321us/step - loss: 0.0853 - accuracy: 0.9726 - val_loss: 4.2673 - val_accuracy: 0.5234\n",
      "Epoch 76/100\n",
      "50000/50000 [==============================] - 16s 313us/step - loss: 0.0783 - accuracy: 0.9746 - val_loss: 4.2954 - val_accuracy: 0.5320\n",
      "Epoch 77/100\n",
      "50000/50000 [==============================] - 15s 299us/step - loss: 0.0865 - accuracy: 0.9717 - val_loss: 4.0923 - val_accuracy: 0.5188\n",
      "Epoch 78/100\n",
      "50000/50000 [==============================] - 15s 305us/step - loss: 0.0876 - accuracy: 0.9721 - val_loss: 4.3426 - val_accuracy: 0.5316\n",
      "Epoch 79/100\n",
      "50000/50000 [==============================] - 16s 311us/step - loss: 0.0828 - accuracy: 0.9729 - val_loss: 4.2001 - val_accuracy: 0.5296\n",
      "Epoch 80/100\n",
      "50000/50000 [==============================] - 15s 301us/step - loss: 0.0902 - accuracy: 0.9714 - val_loss: 4.2812 - val_accuracy: 0.5228\n",
      "Epoch 81/100\n",
      "50000/50000 [==============================] - 15s 304us/step - loss: 0.0819 - accuracy: 0.9738 - val_loss: 4.1840 - val_accuracy: 0.5303\n",
      "Epoch 82/100\n",
      "50000/50000 [==============================] - 16s 316us/step - loss: 0.0823 - accuracy: 0.9740 - val_loss: 4.3481 - val_accuracy: 0.5237\n",
      "Epoch 83/100\n",
      "50000/50000 [==============================] - 16s 310us/step - loss: 0.0829 - accuracy: 0.9734 - val_loss: 4.4427 - val_accuracy: 0.5236\n",
      "Epoch 84/100\n",
      "50000/50000 [==============================] - 17s 337us/step - loss: 0.0863 - accuracy: 0.9716 - val_loss: 3.9824 - val_accuracy: 0.5259\n",
      "Epoch 85/100\n",
      "50000/50000 [==============================] - 18s 351us/step - loss: 0.0831 - accuracy: 0.9729 - val_loss: 4.2409 - val_accuracy: 0.5274\n",
      "Epoch 86/100\n",
      "50000/50000 [==============================] - 17s 332us/step - loss: 0.0676 - accuracy: 0.9782 - val_loss: 4.3716 - val_accuracy: 0.5241\n",
      "Epoch 87/100\n",
      "50000/50000 [==============================] - 16s 319us/step - loss: 0.0793 - accuracy: 0.9746 - val_loss: 4.3848 - val_accuracy: 0.5273\n",
      "Epoch 88/100\n",
      "50000/50000 [==============================] - 15s 304us/step - loss: 0.0703 - accuracy: 0.9774 - val_loss: 4.3764 - val_accuracy: 0.5283\n",
      "Epoch 89/100\n",
      "50000/50000 [==============================] - 15s 304us/step - loss: 0.0831 - accuracy: 0.9735 - val_loss: 4.2939 - val_accuracy: 0.5240\n",
      "Epoch 90/100\n",
      "50000/50000 [==============================] - 15s 304us/step - loss: 0.0764 - accuracy: 0.9749 - val_loss: 4.4449 - val_accuracy: 0.5255\n",
      "Epoch 91/100\n",
      "50000/50000 [==============================] - 16s 310us/step - loss: 0.0712 - accuracy: 0.9770 - val_loss: 4.3175 - val_accuracy: 0.5223\n",
      "Epoch 92/100\n",
      "50000/50000 [==============================] - 16s 312us/step - loss: 0.0648 - accuracy: 0.9793 - val_loss: 4.6259 - val_accuracy: 0.5236\n",
      "Epoch 93/100\n",
      "50000/50000 [==============================] - 15s 299us/step - loss: 0.0803 - accuracy: 0.9748 - val_loss: 4.4348 - val_accuracy: 0.5253\n",
      "Epoch 94/100\n",
      "50000/50000 [==============================] - 15s 296us/step - loss: 0.0705 - accuracy: 0.9772 - val_loss: 4.5274 - val_accuracy: 0.5238\n",
      "Epoch 95/100\n",
      "50000/50000 [==============================] - 15s 305us/step - loss: 0.0885 - accuracy: 0.9717 - val_loss: 4.2801 - val_accuracy: 0.5269\n",
      "Epoch 96/100\n",
      "50000/50000 [==============================] - 15s 308us/step - loss: 0.0675 - accuracy: 0.9783 - val_loss: 4.5861 - val_accuracy: 0.5232\n",
      "Epoch 97/100\n",
      "50000/50000 [==============================] - 15s 298us/step - loss: 0.0587 - accuracy: 0.9816 - val_loss: 4.8107 - val_accuracy: 0.5248\n",
      "Epoch 98/100\n",
      "50000/50000 [==============================] - 15s 298us/step - loss: 0.0730 - accuracy: 0.9759 - val_loss: 4.4421 - val_accuracy: 0.5329\n",
      "Epoch 99/100\n",
      "50000/50000 [==============================] - 15s 298us/step - loss: 0.0630 - accuracy: 0.9798 - val_loss: 4.4775 - val_accuracy: 0.5244\n",
      "Epoch 100/100\n",
      "50000/50000 [==============================] - 15s 298us/step - loss: 0.0741 - accuracy: 0.9767 - val_loss: 4.6231 - val_accuracy: 0.5200\n"
     ]
    },
    {
     "data": {
      "text/plain": [
       "<keras.callbacks.callbacks.History at 0x19907e88>"
      ]
     },
     "execution_count": 10,
     "metadata": {},
     "output_type": "execute_result"
    }
   ],
   "source": [
    "model.fit(x_train, y_train, \n",
    "          epochs=EPOCHS, \n",
    "          batch_size=BATCH_SIZE, \n",
    "          validation_data=(x_test, y_test), \n",
    "          shuffle=True)"
   ]
  },
  {
   "cell_type": "code",
   "execution_count": 12,
   "metadata": {},
   "outputs": [
    {
     "data": {
      "image/png": "[encoded data removed]",
      "text/plain": [
       "<Figure size 432x288 with 1 Axes>"
      ]
     },
     "metadata": {
      "needs_background": "light"
     },
     "output_type": "display_data"
    },
    {
     "data": {
      "image/png": "[encoded data removed]",
      "text/plain": [
       "<Figure size 432x288 with 1 Axes>"
      ]
     },
     "metadata": {
      "needs_background": "light"
     },
     "output_type": "display_data"
    }
   ],
   "source": [
    "import matplotlib.pyplot as plt\n",
    "\n",
    "\n",
    "train_loss = model.history.history[\"loss\"]\n",
    "valid_loss = model.history.history[\"val_loss\"]\n",
    "\n",
    "train_acc = model.history.history[\"accuracy\"]\n",
    "valid_acc = model.history.history[\"val_accuracy\"]\n",
    "\n",
    "plt.plot(range(len(train_loss)), train_loss, label=\"train loss\")\n",
    "plt.plot(range(len(valid_loss)), valid_loss, label=\"valid loss\")\n",
    "plt.legend()\n",
    "plt.title(\"Loss\")\n",
    "plt.show()\n",
    "\n",
    "plt.plot(range(len(train_acc)), train_acc, label=\"train accuracy\")\n",
    "plt.plot(range(len(valid_acc)), valid_acc, label=\"valid accuracy\")\n",
    "plt.legend()\n",
    "plt.title(\"Accuracy\")\n",
    "plt.show()"
   ]
  },
  {
   "cell_type": "code",
   "execution_count": null,
   "metadata": {},
   "outputs": [],
   "source": []
  }
 ],
 "metadata": {
  "kernelspec": {
   "display_name": "Python 3",
   "language": "python",
   "name": "python3"
  },
  "language_info": {
   "codemirror_mode": {
    "name": "ipython",
    "version": 3
   },
   "file_extension": ".py",
   "mimetype": "text/x-python",
   "name": "python",
   "nbconvert_exporter": "python",
   "pygments_lexer": "ipython3",
   "version": "3.7.6"
  }
 },
 "nbformat": 4,
 "nbformat_minor": 4
}
